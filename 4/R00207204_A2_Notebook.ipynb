{
 "cells": [
  {
   "cell_type": "markdown",
   "metadata": {},
   "source": [
    "# DATA8001 - Assignment 2\n",
    "### Student Name: Bernard McNamee\n",
    "### Student ID: R00207204"
   ]
  },
  {
   "cell_type": "markdown",
   "metadata": {},
   "source": [
    "## 1. Libraries"
   ]
  },
  {
   "cell_type": "code",
   "metadata": {},
   "source": [
    "%load_ext autoreload\n",
    "%autoreload 2\n",
    "%matplotlib inline"
   ],
   "outputs": [
    {
     "name": "stdout",
     "output_type": "stream",
     "text": [
      "The autoreload extension is already loaded. To reload it, use:\n",
      "  %reload_ext autoreload\n"
     ]
    },
    {
     "name": "stderr",
     "output_type": "stream",
     "text": [
      "[nltk_data] Downloading package stopwords to\n",
      "[nltk_data]     /home/barnyard/nltk_data...\n",
      "[nltk_data]   Package stopwords is already up-to-date!\n"
     ]
    }
   ],
   "execution_count": 148
  },
  {
   "cell_type": "code",
   "execution_count": 149,
   "outputs": [],
   "source": [
    "from lib import R00207204_util as util\n",
    "import pandas as pd\n",
    "from prettyprinter import cpprint\n",
    "from sklearn.model_selection import train_test_split\n",
    "from sklearn.neighbors import KNeighborsClassifier\n",
    "from sklearn.metrics import classification_report, confusion_matrix, accuracy_score\n",
    "from sklearn import svm\n",
    "from sklearn.model_selection import ShuffleSplit\n",
    "from sklearn.naive_bayes import MultinomialNB\n",
    "import pickle\n",
    "import matplotlib.pyplot as plt"
   ],
   "metadata": {
    "collapsed": false,
    "pycharm": {
     "name": "#%%\n"
    }
   }
  },
  {
   "cell_type": "markdown",
   "metadata": {},
   "source": [
    "## 2. Assignment Variables"
   ]
  },
  {
   "cell_type": "code",
   "metadata": {},
   "source": [
    "STUDENT_ID = 'R00207204'"
   ],
   "outputs": [],
   "execution_count": 150
  },
  {
   "cell_type": "markdown",
   "metadata": {},
   "source": [
    "## 3. Load & Clean News Files"
   ]
  },
  {
   "cell_type": "code",
   "execution_count": 151,
   "outputs": [
    {
     "name": "stdout",
     "output_type": "stream",
     "text": [
      "cleaning data for R00207204 ...\n",
      "(2000, 3)\n"
     ]
    },
    {
     "data": {
      "text/plain": "                                       news_headline  \\\n0  70-yr-old pulled out alive from debris of coll...   \n1  Tata Motors' 'tere mere pyaar...' tweet sparks...   \n2  Addressing cybersecurity important for financi...   \n3  Caller sends MLA a porn clip that has his face...   \n4  China can't rely on old model for economic dev...   \n\n                                        news_article news_category  \n0  A 70-year-old man was rescued from the rubble ...         WORLD  \n1  After a tweet by Tata Motors Electric Mobility...        MOTORS  \n2  RBI Governor Shaktikanta Das on Wednesday said...    TECHNOLOGY  \n3  TMC MLA Udayan Guha has lodged a complaint all...      POLITICS  \n4  China's President Xi Jinping has said the coun...         WORLD  ",
      "text/html": "<div>\n<style scoped>\n    .dataframe tbody tr th:only-of-type {\n        vertical-align: middle;\n    }\n\n    .dataframe tbody tr th {\n        vertical-align: top;\n    }\n\n    .dataframe thead th {\n        text-align: right;\n    }\n</style>\n<table border=\"1\" class=\"dataframe\">\n  <thead>\n    <tr style=\"text-align: right;\">\n      <th></th>\n      <th>news_headline</th>\n      <th>news_article</th>\n      <th>news_category</th>\n    </tr>\n  </thead>\n  <tbody>\n    <tr>\n      <th>0</th>\n      <td>70-yr-old pulled out alive from debris of coll...</td>\n      <td>A 70-year-old man was rescued from the rubble ...</td>\n      <td>WORLD</td>\n    </tr>\n    <tr>\n      <th>1</th>\n      <td>Tata Motors' 'tere mere pyaar...' tweet sparks...</td>\n      <td>After a tweet by Tata Motors Electric Mobility...</td>\n      <td>MOTORS</td>\n    </tr>\n    <tr>\n      <th>2</th>\n      <td>Addressing cybersecurity important for financi...</td>\n      <td>RBI Governor Shaktikanta Das on Wednesday said...</td>\n      <td>TECHNOLOGY</td>\n    </tr>\n    <tr>\n      <th>3</th>\n      <td>Caller sends MLA a porn clip that has his face...</td>\n      <td>TMC MLA Udayan Guha has lodged a complaint all...</td>\n      <td>POLITICS</td>\n    </tr>\n    <tr>\n      <th>4</th>\n      <td>China can't rely on old model for economic dev...</td>\n      <td>China's President Xi Jinping has said the coun...</td>\n      <td>WORLD</td>\n    </tr>\n  </tbody>\n</table>\n</div>"
     },
     "execution_count": 151,
     "metadata": {},
     "output_type": "execute_result"
    }
   ],
   "source": [
    "# Reference : Some code in this assignment has been copied from https://github.com/miguelfzafra/Latest-News-Classifier\n",
    "\n",
    "# Load & Clean News files into Pandas dataframe\n",
    "df_R00207204 = util.data_etl(STUDENT_ID)\n",
    "print(df_R00207204.shape)\n",
    "df = df_R00207204\n",
    "df[['news_headline','news_article','news_category']].head()"
   ],
   "metadata": {
    "collapsed": false,
    "pycharm": {
     "name": "#%%\n"
    }
   }
  },
  {
   "cell_type": "markdown",
   "metadata": {
    "pycharm": {
     "name": "#%% md\n"
    }
   },
   "source": [
    "### Explore dataset"
   ]
  },
  {
   "cell_type": "code",
   "execution_count": 152,
   "outputs": [
    {
     "name": "stdout",
     "output_type": "stream",
     "text": [
      "Summary Statistics :\n",
      "               count    mean       std   min   25%   50%   75%   max\n",
      "news_category                                                       \n",
      "MOTORS         500.0  58.606  1.991657  41.0  58.0  59.0  60.0  60.0\n",
      "POLITICS       500.0  58.156  2.404835  47.0  57.0  59.0  60.0  60.0\n",
      "TECHNOLOGY     500.0  58.222  3.084761  26.0  58.0  59.0  60.0  60.0\n",
      "WORLD          500.0  58.326  3.464640  28.0  58.0  59.0  60.0  60.0 \n",
      "\n",
      "Data appears uniform, equal number of articles per category and equal average word count per article\n",
      "\n",
      "Report any empty fields :\n"
     ]
    },
    {
     "data": {
      "text/plain": "news_category    0\nnews_headline    0\nnews_article     0\nword_count       0\ndtype: int64"
     },
     "execution_count": 152,
     "metadata": {},
     "output_type": "execute_result"
    },
    {
     "data": {
      "text/plain": "<Figure size 432x288 with 4 Axes>",
      "image/png": "[encoded data removed]"
     },
     "metadata": {
      "needs_background": "light"
     },
     "output_type": "display_data"
    },
    {
     "data": {
      "text/plain": "<Figure size 720x1080 with 4 Axes>",
      "image/png": "[encoded data removed]"
     },
     "metadata": {
      "needs_background": "light"
     },
     "output_type": "display_data"
    }
   ],
   "source": [
    "util.explore(df)\n",
    "print('Data appears uniform, equal number of articles per category and equal average word count per article\\n')\n",
    "\n",
    "print('Report any empty fields :')\n",
    "df.isnull().sum()"
   ],
   "metadata": {
    "collapsed": false,
    "pycharm": {
     "name": "#%%\n"
    }
   }
  },
  {
   "cell_type": "markdown",
   "source": [
    "### Data pre-processing"
   ],
   "metadata": {
    "collapsed": false
   }
  },
  {
   "cell_type": "code",
   "execution_count": 153,
   "outputs": [
    {
     "name": "stdout",
     "output_type": "stream",
     "text": [
      "Pre-processing data...\n"
     ]
    }
   ],
   "source": [
    "# Clean dataset\n",
    "# Remove possessive pronoun terminations, punctuation characters, digits, whitespace, change all characters to lower case, lemmatise, and convert categories to number codes\n",
    "# group_method='Lemmatise'\n",
    "group_method='Stem'\n",
    "df, cat_dic = util.pre_process_text(df, group_method)\n",
    "df[['parsed_news_headline','parsed_news_article','news_category_code']].head()\n",
    "# Save cleaned / pre-processed dataframe\n",
    "df_R00207204.to_csv(f'data/{STUDENT_ID}_processed.csv', index=False, header=False)"
   ],
   "metadata": {
    "collapsed": false,
    "pycharm": {
     "name": "#%%\n"
    }
   }
  },
  {
   "cell_type": "code",
   "execution_count": 154,
   "outputs": [],
   "source": [
    "# Feature selection\n",
    "features = ['headline+article', 'headline_only', 'article_only']\n",
    "df[features[0]] = df['parsed_news_headline'] + df['parsed_news_article']\n",
    "df[features[1]] = df['parsed_news_headline']\n",
    "df[features[2]] = df['parsed_news_article']\n",
    "features_selected = features[2]\n",
    "# Add to report\n",
    "f = open('data/results.txt', 'a')\n",
    "f.write('Features Selected : ' + features_selected + '\\n' )\n",
    "f.close()"
   ],
   "metadata": {
    "collapsed": false,
    "pycharm": {
     "name": "#%%\n"
    }
   }
  },
  {
   "cell_type": "code",
   "execution_count": 155,
   "outputs": [],
   "source": [
    "# Split the test and training data\n",
    "X_train, X_test, y_train, y_test = train_test_split(df[features_selected], df['news_category_code'], test_size=0.2, shuffle=True, random_state=8001)"
   ],
   "metadata": {
    "collapsed": false,
    "pycharm": {
     "name": "#%%\n"
    }
   }
  },
  {
   "cell_type": "code",
   "execution_count": 156,
   "outputs": [
    {
     "name": "stdout",
     "output_type": "stream",
     "text": [
      "Transforming training data text to vectors...\n",
      "Done\n"
     ]
    }
   ],
   "source": [
    "# TfidfVectorizer will tokenize documents, learn the vocabulary and inverse document frequency weightings, in preparation for encoding text\n",
    "\n",
    "# Create TfidfVectorizer object\n",
    "tfidf = util.vectorise(df)\n",
    "# Transform text\n",
    "print('Transforming training data text to vectors...')\n",
    "features_train = tfidf.fit_transform(X_train).toarray()\n",
    "labels_train = y_train\n",
    "features_test = tfidf.transform(X_test).toarray()\n",
    "labels_test = y_test\n",
    "print('Done')"
   ],
   "metadata": {
    "collapsed": false,
    "pycharm": {
     "name": "#%%\n"
    }
   }
  },
  {
   "cell_type": "code",
   "execution_count": 157,
   "outputs": [
    {
     "name": "stdout",
     "output_type": "stream",
     "text": [
      "TRANSFORMATION SUMMARY STATISTICS \n",
      "\n",
      "1. Train Features Shape (1600, 300) \n",
      "\n",
      "2. Test Features Shape (400, 300) \n",
      "\n",
      "3. Vocabulary : Index (first 5 only) [('us', 280), ('lik', 145), ('gen', 112), ('new', 177), ('stat', 252)] \n",
      "\n",
      "4. IDF word scores (first 5 only)\n",
      " [3.97166447 4.35303202 4.28403915 3.94756691 2.51191566]\n",
      "\n",
      "5. Chi squared test for unigrams and bigrams most correlated with each category - compare results to category expectations\n",
      "# 'MOTORS'\n",
      "  elon, mot, vehic, car, tesl\n",
      "  elon musk, elect vehic\n",
      "# 'POLITICS'\n",
      "  cm, party, farm, congress, bjp\n",
      "  west beng, congress lead\n",
      "# 'TECHNOLOGY'\n",
      "  technolog, amazon, ap, facebook, googl\n",
      "  west beng, congress lead\n",
      "# 'WORLD'\n",
      "  ir, russ, vaccin, trump, coronavir\n",
      "  donald trump, presid donald\n",
      "\n",
      "\n"
     ]
    }
   ],
   "source": [
    "# Show Transformation Summary Statistics\n",
    "util.show_transform_summary(features_train, features_test, labels_train, labels_test, tfidf, cat_dic)"
   ],
   "metadata": {
    "collapsed": false,
    "pycharm": {
     "name": "#%%\n"
    }
   }
  },
  {
   "cell_type": "markdown",
   "metadata": {},
   "source": [
    "#### Create multi-class classification models x 3 to classify news article categories using sample data provided to train & test models"
   ]
  },
  {
   "cell_type": "markdown",
   "source": [
    "## 4.1 Load & Use Model : KNN\n",
    "#### K value (n_neighbor) is the main KNN hyperparameter - plot K v model accuracy and calculate best value"
   ],
   "metadata": {
    "collapsed": false
   }
  },
  {
   "cell_type": "code",
   "execution_count": 158,
   "outputs": [
    {
     "name": "stdout",
     "output_type": "stream",
     "text": [
      "Maximum accuracy:- 0.84 at K = 0\n"
     ]
    },
    {
     "data": {
      "text/plain": "<Figure size 720x432 with 1 Axes>",
      "image/png": "[encoded data removed]"
     },
     "metadata": {
      "needs_background": "light"
     },
     "output_type": "display_data"
    }
   ],
   "source": [
    "# Visualize the plot between accuracy and K value\n",
    "acc = []\n",
    "for i in range(1,200):\n",
    "    neigh = KNeighborsClassifier(n_neighbors = i).fit(features_train,labels_train)\n",
    "    yhat = neigh.predict(features_test)\n",
    "    acc.append(accuracy_score(labels_test, yhat))\n",
    "\n",
    "plt.figure(figsize=(10,6))\n",
    "plt.plot(range(1,200),acc,color = 'blue',linestyle='dashed',\n",
    "         marker='o',markerfacecolor='red', markersize=10)\n",
    "plt.title('accuracy vs. K Value')\n",
    "plt.xlabel('K')\n",
    "plt.ylabel('Accuracy')\n",
    "print(\"Maximum accuracy:-\",max(acc),\"at K =\",acc.index(max(acc)))"
   ],
   "metadata": {
    "collapsed": false,
    "pycharm": {
     "name": "#%%\n"
    }
   }
  },
  {
   "cell_type": "code",
   "execution_count": 159,
   "outputs": [
    {
     "name": "stdout",
     "output_type": "stream",
     "text": [
      "Default Parameters :\n",
      "\n",
      "{\n",
      "    'algorithm': 'auto',\n",
      "    'leaf_size': 30,\n",
      "    'metric': 'minkowski',\n",
      "    'metric_params': None,\n",
      "    'n_jobs': None,\n",
      "    'n_neighbors': 5,\n",
      "    'p': 2,\n",
      "    'weights': 'uniform'\n",
      "}\n",
      "Fitting GridSearch to data...\n",
      "Fitting 5 folds for each of 1 candidates, totalling 5 fits\n",
      "Duration : 0.1 (s)\n",
      "Model Mean Accuracy : 83.625 %\n",
      "Best hyperparameters : {'metric': 'euclidean', 'n_neighbors': 38, 'weights': 'distance'}\n"
     ]
    }
   ],
   "source": [
    "# Create base model\n",
    "model_knn = KNeighborsClassifier()\n",
    "# Inspect hyperparameters\n",
    "print('Default Parameters :\\n')\n",
    "cpprint(model_knn.get_params())\n",
    "\n",
    "# Exhaustive Grid Search Cross Validation\n",
    "# Set hyperparameters\n",
    "# initial param_grid = {'n_neighbors':list(range(1,50)[::5]), 'weights':['uniform','distance'], 'metric':['euclidean','manhattan','minkowski']}\n",
    "param_grid = {'metric': ['euclidean'], 'n_neighbors': [38], 'weights': ['distance']}\n",
    "# Grid Search\n",
    "cv = 5 # cv = ShuffleSplit(n_splits = 5, test_size = .2, random_state = 8001)\n",
    "grid_search = util.create_grid_search_base_model(cv, model_knn, param_grid, features_train, labels_train)\n",
    "# Create model with best hyperparameters\n",
    "best_model = grid_search.best_estimator_\n",
    "# Add to report\n",
    "f = open('data/results.txt', 'a')\n",
    "f.write('GridSearchCV best hyperparameters : ' + '\\n' )\n",
    "f.write(str(best_model))\n",
    "f.close()\n",
    "df_results = [grid_search.cv_results_]"
   ],
   "metadata": {
    "collapsed": false,
    "pycharm": {
     "name": "#%%\n"
    }
   }
  },
  {
   "cell_type": "code",
   "execution_count": 160,
   "outputs": [
    {
     "name": "stdout",
     "output_type": "stream",
     "text": [
      "\n",
      "Fitting best model to training data...\n",
      "Model : KNeighborsClassifier(metric='euclidean', n_neighbors=38, weights='distance')\n",
      " Model Training Accuracy : 98.375%\n",
      " Model Test Accuracy : 83.0%\n",
      " Classification report\n",
      "              precision    recall  f1-score   support\n",
      "\n",
      "           0       0.75      0.83      0.79       103\n",
      "           1       0.81      0.96      0.88        94\n",
      "           2       0.87      0.62      0.72       108\n",
      "           3       0.91      0.94      0.92        95\n",
      "\n",
      "    accuracy                           0.83       400\n",
      "   macro avg       0.84      0.84      0.83       400\n",
      "weighted avg       0.84      0.83      0.83       400\n",
      "\n",
      "0.1 (s)\n"
     ]
    },
    {
     "data": {
      "text/plain": "<Figure size 921.6x432 with 2 Axes>",
      "image/png": "[encoded data removed]"
     },
     "metadata": {
      "needs_background": "light"
     },
     "output_type": "display_data"
    },
    {
     "name": "stdout",
     "output_type": "stream",
     "text": [
      "data8001 initialised ...\n",
      "model and transformations saved...\n"
     ]
    }
   ],
   "source": [
    "# Fit and test model\n",
    "model_knn = util.fit_test_model(best_model, features_train, labels_train, features_test, labels_test, df)\n",
    "# Save model\n",
    "model_trans = util.Data8001([tfidf], model_knn)\n",
    "pickle.dump(model_trans, open(f'model/R00207204_model_1.pkl', 'wb'))\n",
    "print(\"model and transformations saved...\")"
   ],
   "metadata": {
    "collapsed": false,
    "pycharm": {
     "name": "#%%\n"
    }
   }
  },
  {
   "cell_type": "markdown",
   "source": [
    "## 4.2 Load & Use Model : Support Vector Machine"
   ],
   "metadata": {
    "collapsed": false
   }
  },
  {
   "cell_type": "code",
   "execution_count": 161,
   "outputs": [
    {
     "name": "stdout",
     "output_type": "stream",
     "text": [
      "Default Parameters :\n",
      "{\n",
      "    'C': 1.0,\n",
      "    'break_ties': False,\n",
      "    'cache_size': 200,\n",
      "    'class_weight': None,\n",
      "    'coef0': 0.0,\n",
      "    'decision_function_shape': 'ovr',\n",
      "    'degree': 3,\n",
      "    'gamma': 'scale',\n",
      "    'kernel': 'rbf',\n",
      "    'max_iter': -1,\n",
      "    'probability': False,\n",
      "    'random_state': 8001,\n",
      "    'shrinking': True,\n",
      "    'tol': 0.001,\n",
      "    'verbose': False\n",
      "}\n",
      "Fitting GridSearch to data...\n",
      "Fitting 5 folds for each of 1 candidates, totalling 5 fits\n",
      "Duration : 9.7 (s)\n",
      "Model Mean Accuracy : 87.0 %\n",
      "Best hyperparameters : {'C': 0.0001, 'degree': 2, 'gamma': 100, 'kernel': 'poly', 'probability': True}\n"
     ]
    }
   ],
   "source": [
    "# Create base model\n",
    "model_svm = svm.SVC(random_state=8001)\n",
    "# Inspect hyperparameters\n",
    "print('Default Parameters :')\n",
    "cpprint(model_svm.get_params())\n",
    "\n",
    "# Exhaustive Grid Search Cross Validation\n",
    "\n",
    "# Set hyperparameters\n",
    "# initial param_grid = {'C': [0.0001, 0.001, 0.01], 'degree': [1, 2, 3, 4, 5], 'gamma': [0.0001, 0.001, 0.01, 0.1, 1, 10, 100], 'kernel': ['linear', 'rbf', 'poly'], 'probability': [True]}\n",
    "param_grid = {'C': [0.0001], 'degree': [2], 'gamma': [100], 'kernel': ['poly'], 'probability': [True]}\n",
    "cv = 5 # cv = ShuffleSplit(n_splits = 5, test_size = .2, random_state = 8001)\n",
    "grid_search = util.create_grid_search_base_model(cv, model_svm, param_grid, features_train, labels_train)\n",
    "# Create model with best hyperparameters\n",
    "best_model = grid_search.best_estimator_\n",
    "# Add to report\n",
    "f = open('data/results.txt', 'a')\n",
    "f.write('GridSearchCV best hyperparameters : ' + '\\n' )\n",
    "f.write(str(best_model))\n",
    "f.close()\n",
    "df_results = [grid_search.cv_results_]"
   ],
   "metadata": {
    "collapsed": false,
    "pycharm": {
     "name": "#%%\n"
    }
   }
  },
  {
   "cell_type": "code",
   "execution_count": 162,
   "outputs": [
    {
     "name": "stdout",
     "output_type": "stream",
     "text": [
      "\n",
      "Fitting best model to training data...\n",
      "Model : SVC(C=0.0001, degree=2, gamma=100, kernel='poly', probability=True,\n",
      "    random_state=8001)\n",
      " Model Training Accuracy : 97.4375%\n",
      " Model Test Accuracy : 89.5%\n",
      " Classification report\n",
      "              precision    recall  f1-score   support\n",
      "\n",
      "           0       0.82      0.93      0.87       103\n",
      "           1       0.92      0.96      0.94        94\n",
      "           2       0.88      0.78      0.82       108\n",
      "           3       0.99      0.93      0.96        95\n",
      "\n",
      "    accuracy                           0.90       400\n",
      "   macro avg       0.90      0.90      0.90       400\n",
      "weighted avg       0.90      0.90      0.89       400\n",
      "\n",
      "2.5 (s)\n"
     ]
    },
    {
     "data": {
      "text/plain": "<Figure size 921.6x432 with 2 Axes>",
      "image/png": "[encoded data removed]"
     },
     "metadata": {
      "needs_background": "light"
     },
     "output_type": "display_data"
    },
    {
     "name": "stdout",
     "output_type": "stream",
     "text": [
      "data8001 initialised ...\n",
      "model and transformations saved...\n"
     ]
    }
   ],
   "source": [
    "# Fit and test model\n",
    "model_svm = util.fit_test_model(best_model, features_train, labels_train, features_test, labels_test, df)\n",
    "# Save model\n",
    "model_trans = util.Data8001([tfidf], model_svm)\n",
    "pickle.dump(model_trans, open(f'model/R00207204_model_2.pkl', 'wb'))\n",
    "print(\"model and transformations saved...\")"
   ],
   "metadata": {
    "collapsed": false,
    "pycharm": {
     "name": "#%%\n"
    }
   }
  },
  {
   "cell_type": "markdown",
   "source": [
    "## 4.3 Load & Use Model : Multinomial Naïve Bayes"
   ],
   "metadata": {
    "collapsed": false
   }
  },
  {
   "cell_type": "code",
   "execution_count": 163,
   "outputs": [
    {
     "name": "stdout",
     "output_type": "stream",
     "text": [
      "\n",
      "Fitting best model to training data...\n",
      "Model : MultinomialNB()\n",
      " Model Training Accuracy : 86.9375%\n",
      " Model Test Accuracy : 86.0%\n",
      " Classification report\n",
      "              precision    recall  f1-score   support\n",
      "\n",
      "           0       0.82      0.86      0.84       103\n",
      "           1       0.83      0.97      0.89        94\n",
      "           2       0.88      0.70      0.78       108\n",
      "           3       0.93      0.93      0.93        95\n",
      "\n",
      "    accuracy                           0.86       400\n",
      "   macro avg       0.86      0.87      0.86       400\n",
      "weighted avg       0.86      0.86      0.86       400\n",
      "\n",
      "0.0 (s)\n"
     ]
    },
    {
     "data": {
      "text/plain": "<Figure size 921.6x432 with 2 Axes>",
      "image/png": "[encoded data removed]"
     },
     "metadata": {
      "needs_background": "light"
     },
     "output_type": "display_data"
    },
    {
     "name": "stdout",
     "output_type": "stream",
     "text": [
      "data8001 initialised ...\n",
      "Model and transformations saved...\n"
     ]
    }
   ],
   "source": [
    "# Naive Bayes has almost no hyperparameters to tune and generalises well\n",
    "best_model = MultinomialNB()\n",
    "\n",
    "# Fit and test model\n",
    "model_mbn = util.fit_test_model(best_model, features_train, labels_train, features_test, labels_test, df)\n",
    "# Save model\n",
    "model_trans = util.Data8001([tfidf], model_mbn)\n",
    "pickle.dump(model_trans, open(f'model/R00207204_model_3.pkl', 'wb'))\n",
    "print(\"Model and transformations saved...\")"
   ],
   "metadata": {
    "collapsed": false,
    "pycharm": {
     "name": "#%%\n"
    }
   }
  },
  {
   "cell_type": "code",
   "execution_count": 164,
   "outputs": [
    {
     "name": "stdout",
     "output_type": "stream",
     "text": [
      "Loading and running the model_1 for R00207204...\n",
      "Pre-processing data...\n",
      "Transforming text to vectors...\n",
      "Predicting category...\n",
      "WORLD - predicted Category by Model : KNeighborsClassifier(metric='euclidean', n_neighbors=38, weights='distance') \n",
      "\n",
      "Loading and running the model_2 for R00207204...\n",
      "Pre-processing data...\n",
      "Transforming text to vectors...\n",
      "Predicting category...\n",
      "WORLD - predicted Category by Model : SVC(C=0.0001, degree=2, gamma=100, kernel='poly', probability=True,\n",
      "    random_state=8001) \n",
      "\n",
      "Loading and running the model_3 for R00207204...\n",
      "Pre-processing data...\n",
      "Transforming text to vectors...\n",
      "Predicting category...\n",
      "WORLD - predicted Category by Model : MultinomialNB() \n",
      "\n"
     ]
    }
   ],
   "source": [
    "\n",
    "# Test features\n",
    "news_headline = 'Canada administers first doses of Pfizer coronavirus vaccine'\n",
    "news_article = 'Canada began the vaccination drive against coronavirus with Pfizer/BioNTech doses on Monday by injecting frontline workers and elderly nursing home residents. Anita Quidangen, a personal support worker at the Rekai Centre, was the first person to get vaccinated. She took the vaccine on live television. Canada is the third country after the UK and US to administer the Pfizer/BioNTech vaccine.'\n",
    "models = ['model_1', 'model_2', 'model_3']\n",
    "\n",
    "# Test Model 1, 2, 3\n",
    "for model in models:\n",
    "    R00207204_model, news_category = util.load_run_model(model_id=model, student_id=STUDENT_ID, news_headline=news_headline, news_article=news_article)\n",
    "    print(news_category, '- predicted Category by Model :', R00207204_model,'\\n')\n"
   ],
   "metadata": {
    "collapsed": false,
    "pycharm": {
     "name": "#%%\n"
    }
   }
  }
 ],
 "metadata": {
  "anaconda-cloud": {},
  "kernelspec": {
   "display_name": "Python 3",
   "language": "python",
   "name": "python3"
  },
  "language_info": {
   "codemirror_mode": {
    "name": "ipython",
    "version": 3
   },
   "file_extension": ".py",
   "mimetype": "text/x-python",
   "name": "python",
   "nbconvert_exporter": "python",
   "pygments_lexer": "ipython3",
   "version": "3.6.1"
  }
 },
 "nbformat": 4,
 "nbformat_minor": 4
}