{
 "cells": [
  {
   "cell_type": "markdown",
   "source": [
    "# DATA8001 - Assignment 1\n",
    "\n",
    "### Student Name: Bernard McNamee\n",
    "### Student ID: R00207204"
   ],
   "metadata": {
    "collapsed": false
   }
  },
  {
   "cell_type": "markdown",
   "metadata": {},
   "source": [
    "## 1. Libraries"
   ]
  },
  {
   "cell_type": "code",
   "metadata": {},
   "source": [
    "%load_ext autoreload\n",
    "%autoreload 2\n",
    "%matplotlib inline\n",
    "\n",
    "from datetime import datetime as dt\n",
    "import matplotlib.pyplot as plt\n",
    "import numpy as np\n",
    "from lib import R00207204_util as util\n",
    "import pandas as pd\n",
    "from sklearn.model_selection import train_test_split\n",
    "from sklearn.preprocessing import LabelEncoder, StandardScaler\n",
    "from sklearn.linear_model import LinearRegression\n",
    "from sklearn.metrics import mean_squared_error, r2_score, accuracy_score\n",
    "from sklearn import preprocessing\n",
    "import math\n",
    "import pickle\n"
   ],
   "outputs": [],
   "execution_count": 1
  },
  {
   "cell_type": "markdown",
   "metadata": {},
   "source": [
    "## 2. Assignment Variables"
   ]
  },
  {
   "cell_type": "code",
   "metadata": {},
   "source": [
    "STUDENT_ID = 'R00207204'\n",
    "\n",
    "R00207204_A1_Q1 = 0.0\n",
    "R00207204_A1_Q2 = {'make':'', 'units':0}\n",
    "R00207204_A1_Q3 = {'make':'', 'model':'', 'units':0}\n",
    "R00207204_A1_Q4 = 0.0\n",
    "R00207204_A1_Q5 = {'make':'', 'price':0}"
   ],
   "outputs": [],
   "execution_count": 2
  },
  {
   "cell_type": "markdown",
   "metadata": {},
   "source": [
    "## 3. Load & Clean Data"
   ]
  },
  {
   "cell_type": "code",
   "metadata": {},
   "source": [
    "df_R00207204 = util.data_etl(STUDENT_ID)\n",
    "print(df_R00207204.shape)\n",
    "df_R00207204.head()\n"
   ],
   "outputs": [
    {
     "name": "stdout",
     "output_type": "stream",
     "text": [
      "cleaning data for R00207204 ...\n",
      "(3800, 11)\n"
     ]
    },
    {
     "data": {
      "text/plain": "      car_reg purchase_date  year  month     county      make    model  \\\n0  201-D-4698    2020-03-01  2020      1     DUBLIN     MAZDA   MAZDA3   \n1   202-W-447    2020-10-07  2020      7  WATERFORD  MERCEDES  A-CLASS   \n2  192-D-4872    2019-10-16  2019     10     GALWAY     MAZDA   MAZDA3   \n3  191-L-1071    2019-03-23  2019      3   LIMERICK      OPEL    ASTRA   \n4  181-C-4177    2018-03-27  2018      3       CORK     MAZDA     CX-5   \n\n        type colour tax_band    price  \n0  HATCHBACK    RED        B  28244.0  \n1  HATCHBACK   BLUE        B  38219.0  \n2     SALOON  WHITE        B  33656.0  \n3  HATCHBACK    RED        A  31722.0  \n4        SUV  WHITE        B  40083.0  ",
      "text/html": "<div>\n<style scoped>\n    .dataframe tbody tr th:only-of-type {\n        vertical-align: middle;\n    }\n\n    .dataframe tbody tr th {\n        vertical-align: top;\n    }\n\n    .dataframe thead th {\n        text-align: right;\n    }\n</style>\n<table border=\"1\" class=\"dataframe\">\n  <thead>\n    <tr style=\"text-align: right;\">\n      <th></th>\n      <th>car_reg</th>\n      <th>purchase_date</th>\n      <th>year</th>\n      <th>month</th>\n      <th>county</th>\n      <th>make</th>\n      <th>model</th>\n      <th>type</th>\n      <th>colour</th>\n      <th>tax_band</th>\n      <th>price</th>\n    </tr>\n  </thead>\n  <tbody>\n    <tr>\n      <th>0</th>\n      <td>201-D-4698</td>\n      <td>2020-03-01</td>\n      <td>2020</td>\n      <td>1</td>\n      <td>DUBLIN</td>\n      <td>MAZDA</td>\n      <td>MAZDA3</td>\n      <td>HATCHBACK</td>\n      <td>RED</td>\n      <td>B</td>\n      <td>28244.0</td>\n    </tr>\n    <tr>\n      <th>1</th>\n      <td>202-W-447</td>\n      <td>2020-10-07</td>\n      <td>2020</td>\n      <td>7</td>\n      <td>WATERFORD</td>\n      <td>MERCEDES</td>\n      <td>A-CLASS</td>\n      <td>HATCHBACK</td>\n      <td>BLUE</td>\n      <td>B</td>\n      <td>38219.0</td>\n    </tr>\n    <tr>\n      <th>2</th>\n      <td>192-D-4872</td>\n      <td>2019-10-16</td>\n      <td>2019</td>\n      <td>10</td>\n      <td>GALWAY</td>\n      <td>MAZDA</td>\n      <td>MAZDA3</td>\n      <td>SALOON</td>\n      <td>WHITE</td>\n      <td>B</td>\n      <td>33656.0</td>\n    </tr>\n    <tr>\n      <th>3</th>\n      <td>191-L-1071</td>\n      <td>2019-03-23</td>\n      <td>2019</td>\n      <td>3</td>\n      <td>LIMERICK</td>\n      <td>OPEL</td>\n      <td>ASTRA</td>\n      <td>HATCHBACK</td>\n      <td>RED</td>\n      <td>A</td>\n      <td>31722.0</td>\n    </tr>\n    <tr>\n      <th>4</th>\n      <td>181-C-4177</td>\n      <td>2018-03-27</td>\n      <td>2018</td>\n      <td>3</td>\n      <td>CORK</td>\n      <td>MAZDA</td>\n      <td>CX-5</td>\n      <td>SUV</td>\n      <td>WHITE</td>\n      <td>B</td>\n      <td>40083.0</td>\n    </tr>\n  </tbody>\n</table>\n</div>"
     },
     "execution_count": 3,
     "metadata": {},
     "output_type": "execute_result"
    }
   ],
   "execution_count": 3
  },
  {
   "cell_type": "code",
   "execution_count": 4,
   "outputs": [
    {
     "data": {
      "text/plain": "         car_reg purchase_date  year  month     county      make    model  \\\n3795  202-G-4822    2018-08-20  2018      8     GALWAY     MAZDA   MAZDA6   \n3796  201-W-4883    2020-04-03  2020      3  WATERFORD  MERCEDES  C-CLASS   \n3797  181-D-3003    2018-11-01  2018      1     DUBLIN    TOYOTA   CAMERY   \n3798    191-W-56    2019-03-18  2019      3  WATERFORD      OPEL    ASTRA   \n3799  191-D-2692    2019-05-16  2019      5     GALWAY      FORD   MONDEO   \n\n           type colour tax_band    price  \n3795     ESTATE    RED        B  36330.0  \n3796     ESTATE    RED        B  44359.0  \n3797     SALOON   BLUE        B  40352.0  \n3798  HATCHBACK  WHITE        A  25272.0  \n3799     SALOON  WHITE        B  39459.0  ",
      "text/html": "<div>\n<style scoped>\n    .dataframe tbody tr th:only-of-type {\n        vertical-align: middle;\n    }\n\n    .dataframe tbody tr th {\n        vertical-align: top;\n    }\n\n    .dataframe thead th {\n        text-align: right;\n    }\n</style>\n<table border=\"1\" class=\"dataframe\">\n  <thead>\n    <tr style=\"text-align: right;\">\n      <th></th>\n      <th>car_reg</th>\n      <th>purchase_date</th>\n      <th>year</th>\n      <th>month</th>\n      <th>county</th>\n      <th>make</th>\n      <th>model</th>\n      <th>type</th>\n      <th>colour</th>\n      <th>tax_band</th>\n      <th>price</th>\n    </tr>\n  </thead>\n  <tbody>\n    <tr>\n      <th>3795</th>\n      <td>202-G-4822</td>\n      <td>2018-08-20</td>\n      <td>2018</td>\n      <td>8</td>\n      <td>GALWAY</td>\n      <td>MAZDA</td>\n      <td>MAZDA6</td>\n      <td>ESTATE</td>\n      <td>RED</td>\n      <td>B</td>\n      <td>36330.0</td>\n    </tr>\n    <tr>\n      <th>3796</th>\n      <td>201-W-4883</td>\n      <td>2020-04-03</td>\n      <td>2020</td>\n      <td>3</td>\n      <td>WATERFORD</td>\n      <td>MERCEDES</td>\n      <td>C-CLASS</td>\n      <td>ESTATE</td>\n      <td>RED</td>\n      <td>B</td>\n      <td>44359.0</td>\n    </tr>\n    <tr>\n      <th>3797</th>\n      <td>181-D-3003</td>\n      <td>2018-11-01</td>\n      <td>2018</td>\n      <td>1</td>\n      <td>DUBLIN</td>\n      <td>TOYOTA</td>\n      <td>CAMERY</td>\n      <td>SALOON</td>\n      <td>BLUE</td>\n      <td>B</td>\n      <td>40352.0</td>\n    </tr>\n    <tr>\n      <th>3798</th>\n      <td>191-W-56</td>\n      <td>2019-03-18</td>\n      <td>2019</td>\n      <td>3</td>\n      <td>WATERFORD</td>\n      <td>OPEL</td>\n      <td>ASTRA</td>\n      <td>HATCHBACK</td>\n      <td>WHITE</td>\n      <td>A</td>\n      <td>25272.0</td>\n    </tr>\n    <tr>\n      <th>3799</th>\n      <td>191-D-2692</td>\n      <td>2019-05-16</td>\n      <td>2019</td>\n      <td>5</td>\n      <td>GALWAY</td>\n      <td>FORD</td>\n      <td>MONDEO</td>\n      <td>SALOON</td>\n      <td>WHITE</td>\n      <td>B</td>\n      <td>39459.0</td>\n    </tr>\n  </tbody>\n</table>\n</div>"
     },
     "execution_count": 4,
     "metadata": {},
     "output_type": "execute_result"
    }
   ],
   "source": [
    "df_R00207204.tail()"
   ],
   "metadata": {
    "collapsed": false,
    "pycharm": {
     "name": "#%%\n"
    }
   }
  },
  {
   "cell_type": "markdown",
   "metadata": {},
   "source": [
    "## 4. Visualise Answers"
   ]
  },
  {
   "cell_type": "markdown",
   "metadata": {},
   "source": [
    "#### Question 1 - What was the median price of cars in 2018 (tax band A & B) in Cork and Galway?"
   ]
  },
  {
   "cell_type": "code",
   "metadata": {},
   "source": [
    "df_copy = df_R00207204.copy()\n",
    "conditions = df_copy['county'].isin(['CORK','GALWAY']) & df_copy['tax_band'].isin(['A','B'])\n",
    "R00207204_A1_Q1 = np.median(df_copy['price'][conditions])"
   ],
   "outputs": [],
   "execution_count": 5
  },
  {
   "cell_type": "code",
   "execution_count": 6,
   "outputs": [
    {
     "name": "stdout",
     "output_type": "stream",
     "text": [
      "Answer Q1:\t36408.00\n"
     ]
    }
   ],
   "source": [
    "print(f'Answer Q1:\\t{R00207204_A1_Q1:.2f}')"
   ],
   "metadata": {
    "collapsed": false,
    "pycharm": {
     "name": "#%%\n"
    }
   }
  },
  {
   "cell_type": "code",
   "execution_count": 7,
   "outputs": [
    {
     "data": {
      "text/plain": "<Figure size 1080x216 with 1 Axes>",
      "image/png": "[encoded data removed]"
     },
     "metadata": {
      "needs_background": "light"
     },
     "output_type": "display_data"
    }
   ],
   "source": [
    "df_plot = df_copy['price'][conditions]\n",
    "fig = plt.figure(figsize =(15, 3))\n",
    "ax = fig.add_subplot(111)\n",
    "ax.tick_params(axis='x')\n",
    "plt.boxplot(df_plot, vert=False)\n",
    "plt.xlabel('Prices', fontsize = 16)\n",
    "plt.title('Car prices in 2018, tax band A & B, in Cork and Galway', fontsize=16, color='green')\n",
    "text = 'Median \\nEUR' + f'{R00207204_A1_Q1:.2f}'\n",
    "plt.text(33000, 1.2, text, size=12, color='red')\n",
    "fig.savefig(\"data/R00207204_A1_Q1.png\")\n",
    "plt.show()"
   ],
   "metadata": {
    "collapsed": false,
    "pycharm": {
     "name": "#%%\n"
    }
   }
  },
  {
   "cell_type": "markdown",
   "metadata": {},
   "source": [
    "#### Question 2 - What was the most popular MAKE of car in Dublin with a 192-D-XXXX reg plate across tax Bands C and D?"
   ]
  },
  {
   "cell_type": "code",
   "metadata": {},
   "source": [
    "df_copy = df_R00207204.copy()\n",
    "conditions = df_copy['county'].isin(['DUBLIN']) & df_copy['car_reg'].str.contains('192-D') & df_copy['tax_band'].isin(['C','D'])\n",
    "R00207204_A1_Q2 = df_copy[conditions].groupby(['make'])['make'].count().reset_index(name='units').head(1).iloc[0]\n",
    "R00207204_A1_Q2 = df_copy[conditions].groupby(['make'])['make'].count().reset_index(name='units').sort_values('units', ascending=False).head(1).iloc[0]"
   ],
   "outputs": [],
   "execution_count": 8
  },
  {
   "cell_type": "code",
   "execution_count": 9,
   "outputs": [
    {
     "name": "stdout",
     "output_type": "stream",
     "text": [
      "Answer Q2:\tMake:AUDI\t6 units sold\n"
     ]
    }
   ],
   "source": [
    "print(f'Answer Q2:\\tMake:{R00207204_A1_Q2[\"make\"]}\\t{R00207204_A1_Q2[\"units\"]} units sold')"
   ],
   "metadata": {
    "collapsed": false,
    "pycharm": {
     "name": "#%%\n"
    }
   }
  },
  {
   "cell_type": "code",
   "execution_count": 10,
   "outputs": [
    {
     "data": {
      "text/plain": "<Figure size 576x288 with 1 Axes>",
      "image/png": "[encoded data removed]"
     },
     "metadata": {
      "needs_background": "light"
     },
     "output_type": "display_data"
    }
   ],
   "source": [
    "df_plot = df_copy[conditions].groupby(['make'])['make'].count().reset_index(name='units')\n",
    "\n",
    "fig = plt.figure(figsize =(8, 4))\n",
    "plt.barh(df_plot['make'], df_plot['units'])\n",
    "plt.ylabel('Make', fontsize = 16)\n",
    "plt.xlabel('Units (cars sold)', fontsize = 16)\n",
    "plt.title('Most popular MAKE of car, in Dublin, with 192-D-XXXX reg, in tax bands C and D', fontsize=12, color='green')\n",
    "for i, v in enumerate(df_plot['units']):\n",
    "    plt.text(v, i, str(v), color='red', fontweight='bold')\n",
    "plt.text(0.5, 5.9, 'Most Popular', size=12, color='white', fontweight='bold')\n",
    "fig.savefig(\"data/R00207204_A1_Q2.png\")\n",
    "plt.show()"
   ],
   "metadata": {
    "collapsed": false,
    "pycharm": {
     "name": "#%%\n"
    }
   }
  },
  {
   "cell_type": "markdown",
   "metadata": {},
   "source": [
    "#### Question 3 - What was the most popular Silver Saloon car (make & model) sold in Limerick & Waterford?"
   ]
  },
  {
   "cell_type": "code",
   "execution_count": 11,
   "outputs": [],
   "source": [
    "df_copy = df_R00207204.copy()\n",
    "conditions = (df_copy['colour'] == 'SILVER') & (df_copy['type'] == 'SALOON') & (df_copy['county'].isin(['LIMERICK','WATERFORD']))\n",
    "max = df_copy[conditions].groupby(['make','model'])['make'].count().iloc[0].item()\n",
    "df_top_units = df_copy[conditions].groupby(['make','model'])['make'].count().reset_index(name='units')\n",
    "df_top_units_max = df_top_units[df_top_units['units']==max]\n",
    "df_top_prices = df_copy[conditions].groupby(['make','model'])['price'].mean().reset_index(name='price')\n",
    "df_top = pd.merge(df_top_units_max,df_top_prices).sort_values('price',ascending=False)\n",
    "R00207204_A1_Q3 = df_top.head(1).iloc[0]"
   ],
   "metadata": {
    "collapsed": false,
    "pycharm": {
     "name": "#%%\n"
    }
   }
  },
  {
   "cell_type": "code",
   "metadata": {},
   "source": [
    "print(f'Answer Q3:\\tMake:{R00207204_A1_Q3[\"make\"]}\\tModel:{R00207204_A1_Q3[\"model\"]}\\t{R00207204_A1_Q3[\"units\"]} units sold')"
   ],
   "outputs": [
    {
     "name": "stdout",
     "output_type": "stream",
     "text": [
      "Answer Q3:\tMake:AUDI\tModel:A4\t2 units sold\n"
     ]
    }
   ],
   "execution_count": 12
  },
  {
   "cell_type": "code",
   "execution_count": 13,
   "outputs": [
    {
     "data": {
      "text/plain": "<Figure size 576x288 with 1 Axes>",
      "image/png": "[encoded data removed]"
     },
     "metadata": {
      "needs_background": "light"
     },
     "output_type": "display_data"
    }
   ],
   "source": [
    "df_top['make + model'] = df_top['make'] + '-' + df_top['model']\n",
    "df_plot = df_top[['make + model','price','units']]\n",
    "\n",
    "fig = plt.figure(figsize =(8, 4))\n",
    "plt.barh(df_plot['make + model'],df_plot['price'])\n",
    "plt.xlabel('Price', fontsize = 16)\n",
    "plt.ylabel('Make', fontsize = 16)\n",
    "plt.title('Most popular Make and Model car, in Silver Saloon category, sold in Limerick & Waterford', fontsize=12, color='green')\n",
    "for i, v in enumerate(df_plot['price']):\n",
    "    plt.text(v-12500, i-0.1, ' €'+str(int(v))+' - 2 sold', color='white', size=12, fontweight='bold')\n",
    "plt.text(1000, -0.1, 'Most Expensive in this category', size=12, color='white', fontweight='bold')\n",
    "plt.xticks()\n",
    "fig.savefig(\"data/R00207204_A1_Q3.png\")\n",
    "plt.show()"
   ],
   "metadata": {
    "collapsed": false,
    "pycharm": {
     "name": "#%%\n"
    }
   }
  },
  {
   "cell_type": "markdown",
   "metadata": {},
   "source": [
    "#### Question 4 - What was the percentage increase / decrease in total SUV car sales (units) outside of Dublin of 201 vs 192 reg cars?"
   ]
  },
  {
   "cell_type": "code",
   "metadata": {},
   "source": [
    "df_copy = df_R00207204.copy()\n",
    "conditions201 = (df_copy['county'] != 'DUBLIN') & (df_copy['type'] == 'SUV') & (df_copy['car_reg'].str.contains('201'))\n",
    "conditions192 = (df_copy['county'] != 'DUBLIN') & (df_copy['type'] == 'SUV') & (df_copy['car_reg'].str.contains('192'))\n",
    "sales_units_201 = df_copy.loc[conditions201, ['make']].count().item()\n",
    "sales_units_192 = df_copy.loc[conditions192, ['make']].count().item()\n",
    "\n",
    "R00207204_A1_Q4 = (sales_units_201 - sales_units_192)/sales_units_192*100"
   ],
   "outputs": [],
   "execution_count": 14
  },
  {
   "cell_type": "code",
   "metadata": {},
   "source": [
    "print(f'Answer Q4:\\t{R00207204_A1_Q4:.2f}')"
   ],
   "outputs": [
    {
     "name": "stdout",
     "output_type": "stream",
     "text": [
      "Answer Q4:\t261.82\n"
     ]
    }
   ],
   "execution_count": 15
  },
  {
   "cell_type": "code",
   "execution_count": 16,
   "outputs": [
    {
     "data": {
      "text/plain": "<Figure size 432x288 with 1 Axes>",
      "image/png": "[encoded data removed]"
     },
     "metadata": {
      "needs_background": "light"
     },
     "output_type": "display_data"
    }
   ],
   "source": [
    "x = ['192 reg', '201 reg']\n",
    "y = [sales_units_192,sales_units_201]\n",
    "fig, ax = plt.subplots()\n",
    "ax.text(60, 0, '<--- ' + str(int(R00207204_A1_Q4)) + '% increase' + '--->', size=18, color='red')\n",
    "ax.text(25,0, sales_units_192, color='red', fontweight='bold', size=18)\n",
    "ax.text(25,1, sales_units_201, color='red', fontweight='bold', size=18)\n",
    "ax.barh(x,y)\n",
    "ax.set(xlabel='Sales (units)', ylabel='Car Reg', title='Car sales, outside Dublin, SUV, 201 & 192 reg')\n",
    "ax.grid()\n",
    "fig.savefig(\"data/R00207204_A1_Q4.png\")\n",
    "plt.show()"
   ],
   "metadata": {
    "collapsed": false,
    "pycharm": {
     "name": "#%%\n"
    }
   }
  },
  {
   "cell_type": "markdown",
   "metadata": {},
   "source": [
    "#### Question 5 - What was the most popular make and avg. price of white SUV in Munster in 2020 valued at or above €90K?\n",
    "**NOTE:** If there is only 1 car for each make, choose the most expensive car make!"
   ]
  },
  {
   "cell_type": "code",
   "execution_count": 17,
   "outputs": [],
   "source": [
    "df_copy = df_R00207204.copy()\n",
    "conditions = (df_copy['county'].isin(['WATERFORD', 'LIMERICK', 'CORK'])) & (df_copy['type'] == 'SUV') & (df_copy['colour'] == 'WHITE') & (df_copy['year'] == 2020) & (df_copy['price'] > 90000)\n",
    "R00207204_A1_Q5['make'] = df_copy[['make','price']][conditions]['make'].mode()[0]\n",
    "R00207204_A1_Q5['price'] = df_copy[['make','price']][conditions].mean()[0]"
   ],
   "metadata": {
    "collapsed": false,
    "pycharm": {
     "name": "#%%\n"
    }
   }
  },
  {
   "cell_type": "code",
   "metadata": {},
   "source": [
    "print(f'Answer Q5:\\tMake:{R00207204_A1_Q5[\"make\"]}\\tAvg. Price €{R00207204_A1_Q5[\"price\"]:.2f}')"
   ],
   "outputs": [
    {
     "name": "stdout",
     "output_type": "stream",
     "text": [
      "Answer Q5:\tMake:BMW\tAvg. Price €110803.50\n"
     ]
    }
   ],
   "execution_count": 18
  },
  {
   "cell_type": "code",
   "execution_count": 19,
   "outputs": [
    {
     "data": {
      "text/plain": "<Figure size 576x288 with 1 Axes>",
      "image/png": "[encoded data removed]"
     },
     "metadata": {
      "needs_background": "light"
     },
     "output_type": "display_data"
    }
   ],
   "source": [
    "conditions = (df_copy['county'].isin(['WATERFORD', 'LIMERICK', 'CORK'])) & (df_copy['type'] == 'SUV') & (df_copy['colour'] == 'WHITE') & (df_copy['year'] == 2020)\n",
    "\n",
    "df_plot = df_copy[conditions].groupby(['make'])[['price']].mean().reset_index()\n",
    "\n",
    "fig = plt.figure(figsize =(8, 4))\n",
    "plt.barh(df_plot['make'], df_plot['price'])\n",
    "plt.ylabel('Make', fontsize = 12, color='green')\n",
    "plt.xlabel('Price', fontsize = 12, color='green')\n",
    "plt.title('Make vs Average Price for category : White SUV, in Munster, in 2020, €90K+', fontsize=12, color='green')\n",
    "for i, v in enumerate(df_plot['price']):\n",
    "    plt.text(v-14000, i-0.1, '€'+str(int(v)), color='white', fontweight='bold')\n",
    "plt.text(5000, 0.9, 'Most Popular + only car to meet all criteria, ie >= €90K', size=12, color='white')\n",
    "fig.savefig(\"data/R00207204_A1_Q2.png\")\n",
    "plt.show()"
   ],
   "metadata": {
    "collapsed": false,
    "pycharm": {
     "name": "#%%\n"
    }
   }
  },
  {
   "cell_type": "markdown",
   "metadata": {},
   "source": [
    "######################################################################################################################\n",
    "## 5. Load Model\n",
    "######################################################################################################################\n",
    "1. What is the model accuracy?\n",
    "1. What are the best model features?\n",
    "1. What is the model equation?\n",
    "1. What transformations were used (if any)?"
   ]
  },
  {
   "cell_type": "markdown",
   "source": [
    "## Model v1\n",
    "##### all features + label encode categorical features\n",
    "##### all features but 'car_reg' (unique to each record so nothing useful for predictions) + 'purchase_date' (have 'year' + 'month' and stubborn error 'ValueError: y contains previously unseen labels' remains unresolved)\n",
    "###### 'year','month','type','colour','county','make','model','tax_band'"
   ],
   "metadata": {
    "collapsed": false,
    "pycharm": {
     "name": "#%% md\n"
    }
   }
  },
  {
   "cell_type": "code",
   "execution_count": 20,
   "outputs": [
    {
     "name": "stdout",
     "output_type": "stream",
     "text": [
      "y variable (dependent) - output_feature = price\n",
      "X variables (independent) - input_features = ['year', 'month', 'county', 'make', 'model', 'type', 'colour', 'tax_band']\n",
      "Label encoding = True \\ Scaler encoding = False \n",
      "\n",
      "Splitting dataframe into training and test dataframes 80:20...\n",
      "Encoding all categorical features used in model to numeric labels...\n",
      "Creating a linear regression model...\n",
      "Testing model - calculating RMSE and RSq accuracy score...\n",
      "\n",
      "RESULTS\n",
      "- Overall Model Accuracy :: RMSE : 17022 RSq : 0.517 \n",
      "\n",
      "- Accuracy by Feature :\n",
      "  RMSE: 17874, R Sq: 0.467 - tax_band\n",
      "  RMSE: 22788, R Sq: 0.134 - make\n",
      "  RMSE: 23620, R Sq: 0.07 - model\n",
      "  RMSE: 24507, R Sq: -0.001 - year\n",
      "  RMSE: 24519, R Sq: -0.002 - month\n",
      "  RMSE: 24519, R Sq: -0.002 - colour\n",
      "  RMSE: 24530, R Sq: -0.003 - type\n",
      "  RMSE: 24540, R Sq: -0.004 - county\n",
      "\n",
      "- Best Feature by Accuracy : RMSE: 17874, R Sq: 0.467 - tax_band\n",
      "\n"
     ]
    },
    {
     "name": "stderr",
     "output_type": "stream",
     "text": [
      "/home/barnyard/.local/lib/python3.8/site-packages/sklearn/utils/validation.py:63: DataConversionWarning: A column-vector y was passed when a 1d array was expected. Please change the shape of y to (n_samples, ), for example using ravel().\n",
      "  return f(*args, **kwargs)\n"
     ]
    }
   ],
   "source": [
    "df_R00207204 = pd.read_csv(f'data/R00207204_processed.csv')\n",
    "\n",
    "# X variables (independent)\n",
    "input_features =  ['year','month','county','make','model','type','colour','tax_band']\n",
    "# create regression model\n",
    "model1, transformations1, rmse1, r_sq1 = util.train_transform_model(df_R00207204.copy(), input_features, label_on=True, scaler_on=False)"
   ],
   "metadata": {
    "collapsed": false,
    "pycharm": {
     "name": "#%%\n"
    }
   }
  },
  {
   "cell_type": "markdown",
   "source": [
    "## Model v2\n",
    "###### all features + label encode categorical features + scale numeric features\n",
    "###### 'car_reg','purchase_date','year','month','type','colour','county','make','model','tax_band'"
   ],
   "metadata": {
    "collapsed": false
   }
  },
  {
   "cell_type": "code",
   "execution_count": 21,
   "outputs": [
    {
     "name": "stdout",
     "output_type": "stream",
     "text": [
      "y variable (dependent) - output_feature = price\n",
      "X variables (independent) - input_features = ['year', 'month', 'county', 'make', 'model', 'type', 'colour', 'tax_band']\n",
      "Label encoding = True \\ Scaler encoding = True \n",
      "\n",
      "Splitting dataframe into training and test dataframes 80:20...\n",
      "Encoding all categorical features used in model to numeric labels...\n",
      "Creating a linear regression model...\n",
      "Testing model - calculating RMSE and RSq accuracy score...\n",
      "\n",
      "RESULTS\n",
      "- Overall Model Accuracy :: RMSE : 17022 RSq : 0.517 \n",
      "\n",
      "- Accuracy by Feature :\n",
      "  RMSE: 17874, R Sq: 0.467 - tax_band\n",
      "  RMSE: 22788, R Sq: 0.134 - make\n",
      "  RMSE: 23620, R Sq: 0.07 - model\n",
      "  RMSE: 24507, R Sq: -0.001 - year\n",
      "  RMSE: 24519, R Sq: -0.002 - month\n",
      "  RMSE: 24519, R Sq: -0.002 - colour\n",
      "  RMSE: 24530, R Sq: -0.003 - type\n",
      "  RMSE: 24540, R Sq: -0.004 - county\n",
      "\n",
      "- Best Feature by Accuracy : RMSE: 17874, R Sq: 0.467 - tax_band\n",
      "\n"
     ]
    },
    {
     "name": "stderr",
     "output_type": "stream",
     "text": [
      "/home/barnyard/.local/lib/python3.8/site-packages/sklearn/utils/validation.py:63: DataConversionWarning: A column-vector y was passed when a 1d array was expected. Please change the shape of y to (n_samples, ), for example using ravel().\n",
      "  return f(*args, **kwargs)\n"
     ]
    }
   ],
   "source": [
    "# X variables (independent)\n",
    "input_features =  ['year','month','county','make','model','type','colour','tax_band']\n",
    "# create regression model\n",
    "model2, transformations2, rmse2, r_sq2 = util.train_transform_model(df_R00207204.copy(), input_features, label_on=True, scaler_on=True)"
   ],
   "metadata": {
    "collapsed": false,
    "pycharm": {
     "name": "#%%\n"
    }
   }
  },
  {
   "cell_type": "markdown",
   "source": [
    "## Model v3\n",
    "###### RSq>0 features + label encode categorical features + scale numeric features\n",
    "###### 'make','model',tax_band'"
   ],
   "metadata": {
    "collapsed": false
   }
  },
  {
   "cell_type": "code",
   "execution_count": 22,
   "outputs": [
    {
     "name": "stdout",
     "output_type": "stream",
     "text": [
      "y variable (dependent) - output_feature = price\n",
      "X variables (independent) - input_features = ['make', 'model', 'tax_band']\n",
      "Label encoding = True \\ Scaler encoding = False \n",
      "\n",
      "Splitting dataframe into training and test dataframes 80:20...\n",
      "Encoding all categorical features used in model to numeric labels...\n",
      "Creating a linear regression model...\n",
      "Testing model - calculating RMSE and RSq accuracy score...\n",
      "\n",
      "RESULTS\n",
      "- Overall Model Accuracy :: RMSE : 17004 RSq : 0.518 \n",
      "\n",
      "- Accuracy by Feature :\n",
      "  RMSE: 17874, R Sq: 0.467 - tax_band\n",
      "  RMSE: 22788, R Sq: 0.134 - make\n",
      "  RMSE: 23620, R Sq: 0.07 - model\n",
      "\n",
      "- Best Feature by Accuracy : RMSE: 17874, R Sq: 0.467 - tax_band\n",
      "\n"
     ]
    },
    {
     "name": "stderr",
     "output_type": "stream",
     "text": [
      "/home/barnyard/.local/lib/python3.8/site-packages/sklearn/utils/validation.py:63: DataConversionWarning: A column-vector y was passed when a 1d array was expected. Please change the shape of y to (n_samples, ), for example using ravel().\n",
      "  return f(*args, **kwargs)\n"
     ]
    }
   ],
   "source": [
    "# X variables (independent)\n",
    "input_features =  ['make','model','tax_band']\n",
    "# create regression model\n",
    "model3, transformations3, rmse3, r_sq3 = util.train_transform_model(df_R00207204.copy(), input_features, label_on=True, scaler_on=False)"
   ],
   "metadata": {
    "collapsed": false,
    "pycharm": {
     "name": "#%%\n"
    }
   }
  },
  {
   "cell_type": "markdown",
   "source": [
    "## Model v4\n",
    "###### RSq>0 features + label categorical features + scale numeric features + add artificial feature + drop feature\n",
    "###### 'make','model','tax_band','make_model_type_tax_band'\n",
    "###### add artificial feature - 'make_model_type_tax_band'\n",
    "###### drop feature - 'type' feature did nothing to model R Sq"
   ],
   "metadata": {
    "collapsed": false
   }
  },
  {
   "cell_type": "code",
   "execution_count": 23,
   "outputs": [
    {
     "name": "stdout",
     "output_type": "stream",
     "text": [
      "y variable (dependent) - output_feature = price\n",
      "X variables (independent) - input_features = ['make', 'model', 'tax_band', 'make_model_tax_band']\n",
      "Label encoding = True \\ Scaler encoding = False \n",
      "\n",
      "Splitting dataframe into training and test dataframes 80:20...\n",
      "Encoding all categorical features used in model to numeric labels...\n",
      "Creating a linear regression model...\n",
      "Testing model - calculating RMSE and RSq accuracy score...\n",
      "\n",
      "RESULTS\n",
      "- Overall Model Accuracy :: RMSE : 16968 RSq : 0.52 \n",
      "\n",
      "- Accuracy by Feature :\n",
      "  RMSE: 17874, R Sq: 0.467 - tax_band\n",
      "  RMSE: 22788, R Sq: 0.134 - make\n",
      "  RMSE: 22869, R Sq: 0.128 - make_model_tax_band\n",
      "  RMSE: 23620, R Sq: 0.07 - model\n",
      "\n",
      "- Best Feature by Accuracy : RMSE: 17874, R Sq: 0.467 - tax_band\n",
      "\n"
     ]
    },
    {
     "name": "stderr",
     "output_type": "stream",
     "text": [
      "/home/barnyard/.local/lib/python3.8/site-packages/sklearn/utils/validation.py:63: DataConversionWarning: A column-vector y was passed when a 1d array was expected. Please change the shape of y to (n_samples, ), for example using ravel().\n",
      "  return f(*args, **kwargs)\n"
     ]
    }
   ],
   "source": [
    "df4 = df_R00207204.copy()\n",
    "# add new variable make_model_tax_band\n",
    "df4['make_model_tax_band'] = df4['make'] + '-' + df4['model'] + '-' + df4['tax_band'].astype(str)\n",
    "# X variables (independent)\n",
    "input_features =  ['make','model','tax_band','make_model_tax_band'] #\n",
    "# create regression model\n",
    "model4, transformations4, rmse4, r_sq4 = util.train_transform_model(df4.copy(), input_features, label_on=True, scaler_on=False)"
   ],
   "metadata": {
    "collapsed": false,
    "pycharm": {
     "name": "#%%\n"
    }
   }
  },
  {
   "cell_type": "markdown",
   "source": [
    "######################################################################################################################\n",
    "## Regression Model\n",
    "######################################################################################################################"
   ],
   "metadata": {
    "collapsed": false
   }
  },
  {
   "cell_type": "code",
   "execution_count": 24,
   "outputs": [
    {
     "name": "stdout",
     "output_type": "stream",
     "text": [
      "               feature        slopes\n",
      "0                 make  -8063.310011\n",
      "1                model   -757.553911\n",
      "2             tax_band  26004.955667\n",
      "3  make_model_tax_band   1414.216598\n",
      "\n",
      "Model equation\n",
      "y predicted = 34578 + -8063 * make + -757 * model + 26004 * tax_band\n",
      "\n"
     ]
    }
   ],
   "source": [
    "# show model features and related co-efficients (slopes)\n",
    "df_features4 = pd.DataFrame(model4.coef_.flatten(), input_features, columns=['slopes']).reset_index().rename(columns={'index':'feature'})\n",
    "print(df_features4)\n",
    "\n",
    "# create model equation with y-intercept and slopes (co-efficients)\n",
    "print('\\nModel equation')\n",
    "print('y predicted =',int(model4.intercept_[0]),'+',int(model4.coef_[0][0]),'* make','+',int(model4.coef_[0][1]),'* model','+',int(model4.coef_[0][2]),'* tax_band\\n')\n",
    "#,'+',int(model4.coef_[0][3]),'* make_model_type_tax_band"
   ],
   "metadata": {
    "collapsed": false,
    "pycharm": {
     "name": "#%%\n"
    }
   }
  },
  {
   "cell_type": "markdown",
   "source": [
    "\\begin{equation}\n",
    "    \\hat{y_i} = w_0 + w_1x_{i1} + w_2x_{i2} + w_3x_{i3} + w_4x_{i4} \\\\\n",
    "    price = w_0 + w_1.make + w_2.model + w_3.tax_band + w_4.makemodeltaxband \\\\\n",
    "\\end{equation}\n",
    "The $R^2$ value of 0.226 indicates that 23% of the variability in Y can be explained using X\n",
    "The large MSE also indicates that the model is not a good prediction model."
   ],
   "metadata": {
    "collapsed": false
   }
  },
  {
   "cell_type": "markdown",
   "source": [
    "#######################################################################################################################\n",
    "### Validate the model - using test data\n",
    "#######################################################################################################################"
   ],
   "metadata": {
    "collapsed": false
   }
  },
  {
   "cell_type": "code",
   "execution_count": 24,
   "outputs": [],
   "source": [],
   "metadata": {
    "collapsed": false,
    "pycharm": {
     "name": "#%%\n"
    }
   }
  },
  {
   "cell_type": "code",
   "execution_count": 25,
   "outputs": [
    {
     "name": "stdout",
     "output_type": "stream",
     "text": [
      "data8001 initialised ...\n",
      "model transformations created...\n",
      "model and transformations saved...\n"
     ]
    }
   ],
   "source": [
    "#######################################################################################################################\n",
    "# Pickle the model & transformations\n",
    "#######################################################################################################################\n",
    "# create model transformations\n",
    "model_trans = util.Data8001(transformations4, model4) # both transformations, model4 from model4 above\n",
    "print(\"model transformations created...\")\n",
    "# save the model\n",
    "pickle.dump(model_trans, open('model/R00207204.pkl', 'wb'))\n",
    "print(\"model and transformations saved...\")\n"
   ],
   "metadata": {
    "collapsed": false,
    "pycharm": {
     "name": "#%%\n"
    }
   }
  },
  {
   "cell_type": "code",
   "execution_count": 26,
   "outputs": [
    {
     "name": "stdout",
     "output_type": "stream",
     "text": [
      "loading and running the linear regression model for R00207204 ...\n",
      "Logistic Regression R Squared Accuracy: Score = 0.53\n"
     ]
    }
   ],
   "source": [
    "#######################################################################################################################\n",
    "# Load pickled model file and process unseen test data including any transformations\n",
    "#######################################################################################################################\n",
    "# load testing dataset\n",
    "df_test = pd.read_csv(f'data/{STUDENT_ID}_processed.csv')\n",
    "# load the model\n",
    "model_R00207204 = util.load_run_model(STUDENT_ID, df_test)"
   ],
   "metadata": {
    "collapsed": false,
    "pycharm": {
     "name": "#%%\n"
    }
   }
  },
  {
   "cell_type": "markdown",
   "source": [
    "######################################################################################################################\n",
    "### Normalised dataset - create model on normalised dataset and test new model against original dataset ##############\n",
    "######################################################################################################################"
   ],
   "metadata": {
    "collapsed": false
   }
  },
  {
   "cell_type": "code",
   "execution_count": 27,
   "outputs": [
    {
     "data": {
      "text/plain": "<Figure size 1080x216 with 1 Axes>",
      "image/png": "[encoded data removed]"
     },
     "metadata": {
      "needs_background": "light"
     },
     "output_type": "display_data"
    },
    {
     "data": {
      "text/plain": "<Figure size 432x288 with 1 Axes>",
      "image/png": "[encoded data removed]"
     },
     "metadata": {
      "needs_background": "light"
     },
     "output_type": "display_data"
    },
    {
     "data": {
      "text/plain": "<Figure size 1080x216 with 1 Axes>",
      "image/png": "[encoded data removed]"
     },
     "metadata": {
      "needs_background": "light"
     },
     "output_type": "display_data"
    },
    {
     "data": {
      "text/plain": "<Figure size 432x288 with 1 Axes>",
      "image/png": "[encoded data removed]"
     },
     "metadata": {
      "needs_background": "light"
     },
     "output_type": "display_data"
    },
    {
     "name": "stdout",
     "output_type": "stream",
     "text": [
      "Normalised Model Overall Accuracy with normalised test data\n",
      "y variable (dependent) - output_feature = price\n",
      "X variables (independent) - input_features = ['make', 'model', 'tax_band', 'make_model_tax_band']\n",
      "Label encoding = True \\ Scaler encoding = False \n",
      "\n",
      "Splitting dataframe into training and test dataframes 80:20...\n",
      "Encoding all categorical features used in model to numeric labels...\n",
      "Creating a linear regression model...\n",
      "Testing model - calculating RMSE and RSq accuracy score...\n",
      "\n",
      "RESULTS\n",
      "- Overall Model Accuracy :: RMSE : 8824 RSq : 0.665 \n",
      "\n",
      "- Accuracy by Feature :\n",
      "  RMSE: 10576, R Sq: 0.519 - tax_band\n",
      "  RMSE: 12678, R Sq: 0.309 - make\n",
      "  RMSE: 12715, R Sq: 0.305 - make_model_tax_band\n",
      "  RMSE: 14285, R Sq: 0.123 - model\n",
      "\n",
      "- Best Feature by Accuracy : RMSE: 10576, R Sq: 0.519 - tax_band\n",
      "\n",
      "Overall \"Normalised\" Model Accuracy (on Original data) :: RMSE : 18382 RSq : 0.437\n"
     ]
    },
    {
     "name": "stderr",
     "output_type": "stream",
     "text": [
      "/home/barnyard/.local/lib/python3.8/site-packages/sklearn/utils/validation.py:63: DataConversionWarning: A column-vector y was passed when a 1d array was expected. Please change the shape of y to (n_samples, ), for example using ravel().\n",
      "  return f(*args, **kwargs)\n",
      "/home/barnyard/.local/lib/python3.8/site-packages/sklearn/utils/validation.py:63: DataConversionWarning: A column-vector y was passed when a 1d array was expected. Please change the shape of y to (n_samples, ), for example using ravel().\n",
      "  return f(*args, **kwargs)\n"
     ]
    }
   ],
   "source": [
    "# explore full dataset with boxplot and histogram\n",
    "df1 = df_R00207204.copy()\n",
    "# display plots\n",
    "util.show_dataset_plots(df1)\n",
    "\n",
    "# explore normalised dataset with boxplot and histogram\n",
    "df5 = df_R00207204.copy()\n",
    "# remove outliers\n",
    "df5 = util.remove_outliers(df5)\n",
    "# display plots\n",
    "util.show_dataset_plots(df5)\n",
    "\n",
    "# test normalised model\n",
    "df5.insert(10,'make_model_tax_band','')\n",
    "df5['make_model_tax_band'] = df5['make'] + '-' + df5['model'] + '-' + df5['tax_band']\n",
    "# create and test model with normalised test dataframe df5\n",
    "print('Normalised Model Overall Accuracy with normalised test data')\n",
    "model5, transformations5, rmse5, r_sq5 = util.train_transform_model(df5, input_features, label_on=True, scaler_on=False)\n",
    "\n",
    "output_feature = 'price'\n",
    "# test normalised model model5 with original test dataframe df4\n",
    "y_pred1, mse1, rmse6, r_sq6 = util.compare_models(df4,model5,input_features,output_feature)\n",
    "# compare with original model model1 with original test dataframe df1\n",
    "print('Overall \"Normalised\" Model Accuracy (on Original data) :: RMSE :', rmse6, 'RSq :',r_sq6)\n"
   ],
   "metadata": {
    "collapsed": false,
    "pycharm": {
     "name": "#%%\n"
    }
   }
  }
 ],
 "metadata": {
  "anaconda-cloud": {},
  "kernelspec": {
   "display_name": "Python 3",
   "language": "python",
   "name": "python3"
  },
  "language_info": {
   "codemirror_mode": {
    "name": "ipython",
    "version": 3
   },
   "file_extension": ".py",
   "mimetype": "text/x-python",
   "name": "python",
   "nbconvert_exporter": "python",
   "pygments_lexer": "ipython3",
   "version": "3.6.1"
  }
 },
 "nbformat": 4,
 "nbformat_minor": 4
}